{
 "cells": [
  {
   "cell_type": "markdown",
   "metadata": {},
   "source": [
    "## 4.3 Monte Carlo Simulation of the Ising Model\n",
    "\n",
    "The Ising Model is a simplified version of a ferromagnet - where the structure of the material consist of a single dipole per lattice site. The overall magnetization of the material is determined by the number of dipoles that are aligned parallel to one-another. The Ising Model is a beautifully simpl demonstration of the implications of statistical mechanics and phase transitions - as well a being an fantastic example of the power of Monte Carlo Simulations."
   ]
  },
  {
   "cell_type": "markdown",
   "metadata": {},
   "source": [
    "### Model descriptions\n",
    "\n",
    "1. Create a 2D lattice using 2D array of size 50x50\n",
    "\n",
    "2. Fill the arrays with spin states using -1 or +1 randomly\n",
    "\n",
    "3. Randomly select an element from the 2D lattice\n",
    "\n",
    "4. Flip the spin state of the selected element and calculate the change in energy due to the flipping process:\n",
    "    \n",
    "    $${E_{mn}} =  - 2\\sum\\limits_{ij} {{s_{ij}}{s_{mn}}} $$\n",
    "\n",
    "5. if ${E_{mn}} \\le 0$ then the spin is permanently flipped,\n",
    "   else calculate the Boltzmann's probability, $p$:\n",
    "   \n",
    "   $$p = {e^{ - \\beta {E_{mn}}}}$$\n",
    " \n",
    "    random a number $x$ btween 0 and 1:\n",
    "\n",
    "    if $x \\le p$ then spin is permanently flipped.\n",
    "\n",
    "    otherwise, spin returns to its original state.\n",
    "    \n",
    "6. Plot 2D grid\n",
    "\n",
    "7. Repeat step 3 for 100,000 times"
   ]
  },
  {
   "cell_type": "code",
   "execution_count": 1,
   "metadata": {},
   "outputs": [],
   "source": [
    "import random\n",
    "import numpy as np\n",
    "import matplotlib.pyplot as plt\n",
    "import scipy.constants\n",
    "import matplotlib.animation as animation\n",
    "\n"
   ]
  },
  {
   "cell_type": "code",
   "execution_count": 13,
   "metadata": {},
   "outputs": [
    {
     "data": {
      "text/plain": [
       "<matplotlib.image.AxesImage at 0x1c0cec088b0>"
      ]
     },
     "execution_count": 13,
     "metadata": {},
     "output_type": "execute_result"
    },
    {
     "data": {
      "image/png": "[encoded data removed]",
      "text/plain": [
       "<Figure size 432x288 with 1 Axes>"
      ]
     },
     "metadata": {
      "needs_background": "light"
     },
     "output_type": "display_data"
    }
   ],
   "source": [
    "# grid = np.zeros((50,50))\n",
    "k = scipy.constants.Boltzmann\n",
    "T = 265\n",
    "B = 1/(k*T)\n",
    "grid = np.where(np.random.randint(2, size=(51, 51)) == 0, -1, 1)\n",
    "\n",
    "\n",
    "def energy(a,b):\n",
    "\n",
    "        return 2 * grid[a][b] * (grid[a-1][b]+grid[a+1][b]+grid[a][b-1]+grid[a][b+1])\n",
    "# print(energy(0,0))\n",
    "\n",
    "def p(energy,B):\n",
    "    return np.exp(-B*energy)\n",
    "\n",
    "frames = []\n",
    "def ans(B):\n",
    "    for _ in range(100000):\n",
    "        frames.append(grid[:50,:50].copy())\n",
    "        a = random.randint(0,49)\n",
    "        b = random.randint(0,49)\n",
    "        x = random.random()\n",
    "        if x <= p(energy(a,b),B):\n",
    "            grid[a][b] = grid[a][b]*-1\n",
    "    \n",
    "    return grid[:50,:50]\n",
    "\n",
    "plt.imshow(ans(10),cmap='hot')\n",
    "\n",
    "# print(len(frames),len(frames[::1000]))"
   ]
  },
  {
   "cell_type": "code",
   "execution_count": 14,
   "metadata": {},
   "outputs": [
    {
     "data": {
      "text/plain": [
       "<matplotlib.image.AxesImage at 0x1c0bcdfa400>"
      ]
     },
     "execution_count": 14,
     "metadata": {},
     "output_type": "execute_result"
    },
    {
     "data": {
      "image/png": "[encoded data removed]",
      "text/plain": [
       "<Figure size 432x288 with 1 Axes>"
      ]
     },
     "metadata": {
      "needs_background": "light"
     },
     "output_type": "display_data"
    }
   ],
   "source": [
    "frames = frames[::100]\n",
    "\n",
    "plt.imshow(frames[-1],cmap='hot')"
   ]
  },
  {
   "cell_type": "code",
   "execution_count": 15,
   "metadata": {},
   "outputs": [
    {
     "name": "stderr",
     "output_type": "stream",
     "text": [
      "MovieWriter ffmpeg unavailable; using Pillow instead.\n"
     ]
    },
    {
     "data": {
      "text/plain": [
       "<function matplotlib.pyplot.show(close=None, block=None)>"
      ]
     },
     "execution_count": 15,
     "metadata": {},
     "output_type": "execute_result"
    },
    {
     "data": {
      "image/png": "[encoded data removed]",
      "text/plain": [
       "<Figure size 432x288 with 1 Axes>"
      ]
     },
     "metadata": {
      "needs_background": "light"
     },
     "output_type": "display_data"
    }
   ],
   "source": [
    "# print(frames)\n",
    "fig, ax = plt.subplots()\n",
    "ax = plt.axes(xlim=(0, 50), ylim=(0, 50))\n",
    "line = plt.imshow(frames[0],cmap=\"hot\")\n",
    "\n",
    "\n",
    "def animate(i):\n",
    "    line.set_array(frames[i])\n",
    "    return line\n",
    "\n",
    "anim = animation.FuncAnimation(fig, animate, frames=len(frames), repeat=False)\n",
    "anim.save('ising model.gif', fps = 20)\n",
    "plt.show"
   ]
  },
  {
   "cell_type": "code",
   "execution_count": null,
   "metadata": {},
   "outputs": [],
   "source": []
  }
 ],
 "metadata": {
  "kernelspec": {
   "display_name": "Python 3",
   "language": "python",
   "name": "python3"
  },
  "language_info": {
   "codemirror_mode": {
    "name": "ipython",
    "version": 3
   },
   "file_extension": ".py",
   "mimetype": "text/x-python",
   "name": "python",
   "nbconvert_exporter": "python",
   "pygments_lexer": "ipython3",
   "version": "3.9.7"
  }
 },
 "nbformat": 4,
 "nbformat_minor": 1
}
