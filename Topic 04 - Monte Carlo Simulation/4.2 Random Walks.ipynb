{
 "cells": [
  {
   "cell_type": "markdown",
   "metadata": {},
   "source": [
    "## 4.2 Random Walks"
   ]
  },
  {
   "cell_type": "markdown",
   "metadata": {},
   "source": [
    "Random walks are a gold mine for a wide variety of stochastic theory and practice. They are easy to explain, easy to code, and easy to misunderstand. In this section, we start out with the simplest imaginable random walk and then show how things can go wrong."
   ]
  },
  {
   "cell_type": "markdown",
   "metadata": {},
   "source": [
    "Let's examine the problem of the one-dimensional random walk.\n",
    "\n",
    "- Consider a board game in which we move a counter either up or down on an infinite grid based on the flip of a coin.\n",
    "- We start in the center of the grid at position $y_{t=0}=0$\n",
    "- Each turn we flip a coin. If it is heads we move up one square, otherwise we move down.\n",
    "- How will the counter behave over time? Let's simulate this in Python.\n",
    "- First we create a variable $y$ to hold the current position."
   ]
  },
  {
   "cell_type": "code",
   "execution_count": null,
   "metadata": {},
   "outputs": [],
   "source": [
    "y = 0"
   ]
  },
  {
   "cell_type": "markdown",
   "metadata": {},
   "source": [
    "- Now we will generate a Bernoulli sequence representing the moves\n",
    "- Each movement is a independent discrete random variable $\\epsilon_t$ distributed with $p(\\epsilon_t = 0) = \\frac{1}{2}$ and $p(\\epsilon_t = 1) = \\frac{1}{2}$.\n",
    "- We will generate a sequence $( \\epsilon_1, \\epsilon_2, \\ldots, \\epsilon_{t_{max}} )$ such movements, with $t_{max} = 100$.\n",
    "- The time variable is also discrete, hence this is a discrete-time model.\n",
    "- This means that time values can be represented as integers."
   ]
  },
  {
   "cell_type": "code",
   "execution_count": null,
   "metadata": {},
   "outputs": [],
   "source": [
    "import numpy as np\n",
    "from numpy.random import randint\n",
    "\n",
    "max_t = 100\n",
    "movements = randint(0, 2, size=max_t)\n",
    "movements"
   ]
  },
  {
   "cell_type": "markdown",
   "metadata": {},
   "source": [
    "- Each time we move the counter, we move it in the upwards direction if we flip a 1, and downwards for a 0.\n",
    "- So we add 1 to $y_t$ for a 1, and subtract 1 for a 0."
   ]
  },
  {
   "cell_type": "code",
   "execution_count": null,
   "metadata": {},
   "outputs": [],
   "source": [
    "import numpy as np\n",
    "import matplotlib.pyplot as plt\n",
    "from numpy.random import randint, normal, uniform\n",
    "%matplotlib inline\n",
    "max_t = 100\n",
    "movements = randint(0, 2, size=max_t)\n",
    "y = 0\n",
    "values = [y]\n",
    "for movement in movements:\n",
    "    if movement == 1:\n",
    "        y = y + 1\n",
    "    else:\n",
    "        y = y - 1\n",
    "    values.append(y)\n",
    "plt.xlabel('t')\n",
    "plt.ylabel('y')\n",
    "ax = plt.plot(values)"
   ]
  },
  {
   "cell_type": "markdown",
   "metadata": {},
   "source": [
    "- Notice that the value of $y_t$ is simply the cumulative sum of movements randomly chosen from −1 or +1\n",
    "- So if $p(\\epsilon = -1) = \\frac{1}{2}$ and $p(\\epsilon = +1) = \\frac{1}{2}$ then\n",
    "- We can define our game as a simple **stochastic process** : $y_t = \\sum_{t=1}^{t_{max}} \\epsilon_t$\n",
    "- In Python we can use the where() function to replace all zeros with −1."
   ]
  },
  {
   "cell_type": "code",
   "execution_count": null,
   "metadata": {},
   "outputs": [],
   "source": [
    "t_max = 100\n",
    "random_numbers = randint(0, 2, size=t_max)\n",
    "steps = np.where(random_numbers == 0, -1, +1)\n",
    "values = []\n",
    "for step in steps:\n",
    "    y = y + step\n",
    "    values.append(y)\n",
    "plt.xlabel('t')\n",
    "plt.ylabel('y')\n",
    "ax = plt.plot(values)"
   ]
  },
  {
   "cell_type": "markdown",
   "metadata": {},
   "source": [
    "- We can make our code more efficient by using the cumsum() function instead of a loop.\n",
    "- This way we can work entirely with arrays."
   ]
  },
  {
   "cell_type": "code",
   "execution_count": null,
   "metadata": {},
   "outputs": [],
   "source": [
    "# Additive random-walk with arrays to improve efficiency\n",
    "t_max = 100\n",
    "random_numbers = randint(0, 2, size=t_max)\n",
    "steps = np.where(random_numbers == 0, -1, +1)\n",
    "values = np.cumsum(steps)\n",
    "plt.xlabel('t')\n",
    "plt.ylabel('y')\n",
    "ax = plt.plot(values)"
   ]
  },
  {
   "cell_type": "markdown",
   "metadata": {},
   "source": [
    "---\n",
    "#### Exercise 4.2.1 - Reimplement the random walk problem using numpy.random.choice"
   ]
  },
  {
   "cell_type": "code",
   "execution_count": null,
   "metadata": {},
   "outputs": [],
   "source": []
  },
  {
   "cell_type": "markdown",
   "metadata": {},
   "source": [
    "---\n",
    "### Multiple realisations of a stochastic process\n",
    "\n",
    "- Because we are making use of random numbers, each time we execute this code we will obtain a different result.\n",
    "- In the case of a random-walk, the result of the simulation is called a **path**.\n",
    "- Each path is called a **realisation** of the model.\n",
    "- We can generate multiple paths by using a 2-dimensional array (a matrix).\n",
    "- Suppose we want $n=10$ paths.\n",
    "- In Python we can pass two values for the size argument in the randint() function to specify the dimensions (rows and columns):"
   ]
  },
  {
   "cell_type": "code",
   "execution_count": null,
   "metadata": {},
   "outputs": [],
   "source": [
    "t_max = 100\n",
    "n = 10\n",
    "random_numbers = randint(0, 2, size=(t_max, n))\n",
    "steps = np.where(random_numbers == 0, -1, +1)\n",
    "# We can then tell cumsum() to sum the rows using the axis argument:\n",
    "values = np.cumsum(steps, axis=1)\n",
    "plt.xlabel('t')\n",
    "plt.ylabel('y')\n",
    "ax = plt.plot(values)"
   ]
  },
  {
   "cell_type": "markdown",
   "metadata": {},
   "source": [
    "---\n",
    "### Multiplicative Random Walks\n",
    "\n",
    "- The series of values we have looked at do not closely resememble how security prices change over time.\n",
    "- In order to obtain a more realistic model of how prices change over time, we need to multiply instead of add.\n",
    "- Let $r_t$ denote an independent random variable distributed $r_t \\sim N(0, \\sigma)$\n",
    "- Define a strictly positive intitial value $y_0 \\in \\mathbf{R}$; e.g. $y_0 = 10$\n",
    "- Subsequent values are given by $y_t = y_{t-1} \\times (1 + r_t)$\n",
    "- We can write this as a cummulative product:\n",
    "$$ y_t = y_0 \\times \\Pi_{t=1}^{t_{max}} (1 + r_t) $$\n",
    "- This can be computed efficiently using the Python function cumprod."
   ]
  },
  {
   "cell_type": "code",
   "execution_count": null,
   "metadata": {},
   "outputs": [],
   "source": [
    "initial_value = 100.0\n",
    "random_numbers = normal(size=t_max) * 0.005\n",
    "multipliers = 1 + random_numbers\n",
    "values = initial_value * np.cumprod(multipliers)\n",
    "plt.xlabel('t')\n",
    "plt.ylabel('y')\n",
    "ax = plt.plot(values)"
   ]
  },
  {
   "cell_type": "markdown",
   "metadata": {},
   "source": [
    "- Now let's plot the random perturbations"
   ]
  },
  {
   "cell_type": "code",
   "execution_count": null,
   "metadata": {},
   "outputs": [],
   "source": [
    "plt.xlabel('t')\n",
    "plt.ylabel('r')\n",
    "ax = plt.plot(random_numbers)"
   ]
  },
  {
   "cell_type": "markdown",
   "metadata": {},
   "source": [
    "#### Gross return\n",
    "- If we take $100 \\times \\epsilon_t$ , then these represent the percentage changes in the value at discrete time intervals.\n",
    "- If the values represent prices that have been adjusted to incorporate dividends, then the multipliers are called simple **returns**.\n",
    "- The gross return is obtained by adding 1."
   ]
  },
  {
   "cell_type": "code",
   "execution_count": null,
   "metadata": {},
   "outputs": [],
   "source": [
    "plt.xlabel('t')\n",
    "plt.ylabel('r')\n",
    "ax = plt.plot(random_numbers + 1)"
   ]
  },
  {
   "cell_type": "markdown",
   "metadata": {},
   "source": [
    "---\n",
    "#### Exercise 4.2.2 - Variant of random walk over time\n",
    "\n",
    "Generate many realisations of the simple walk and plot the variance across realisations over time:"
   ]
  },
  {
   "cell_type": "code",
   "execution_count": null,
   "metadata": {},
   "outputs": [],
   "source": [
    "from numpy import var\n",
    "\n",
    "#plt.xlabel('t')\n",
    "#plt.ylabel('var(y)')\n",
    "#ax = plt.plot(var(random_walks, axis=1))"
   ]
  },
  {
   "cell_type": "markdown",
   "metadata": {},
   "source": [
    "---\n",
    "#### Exercise 4.2.3 - Random walk distribution of paths\n",
    "\n",
    "Generate many realisation of the simple walk and plot distribution curve."
   ]
  },
  {
   "cell_type": "code",
   "execution_count": null,
   "metadata": {},
   "outputs": [],
   "source": [
    "# sample code for fitting and plotting histogram\n",
    "import numpy as np\n",
    "import scipy.stats as stats\n",
    "import pylab as pl\n",
    "\n",
    "h = [186, 176, 158, 180, 186, 168, 168, 164, 178, 170, 189, 195, 172, \n",
    "     187, 180, 186, 185, 168, 179, 178, 183, 179, 170, 175, 186, 159,\n",
    "     161, 178, 175, 185, 175, 162, 173, 172, 177, 175, 172, 177, 180]\n",
    "\n",
    "h.sort()\n",
    "\n",
    "fit = stats.norm.pdf(h, np.mean(h), np.std(h))  #this is a fitting indeed\n",
    "\n",
    "pl.plot(h,fit,'-o')\n",
    "\n",
    "pl.hist(h,normed=True)      #use this to draw histogram of your data\n"
   ]
  },
  {
   "cell_type": "markdown",
   "metadata": {},
   "source": [
    "---\n",
    "#### Exercise 4.2.4 - Beta decay simulation\n"
   ]
  },
  {
   "cell_type": "code",
   "execution_count": null,
   "metadata": {},
   "outputs": [],
   "source": [
    "from IPython.lib.display import Audio\n",
    "import IPython.display as ipd\n",
    "import numpy as np\n",
    "\n",
    "framerate = 4410\n",
    "play_time_seconds = 0.12\n",
    "\n",
    "t = np.linspace(0, play_time_seconds, round(framerate*play_time_seconds))\n",
    "audio_data = np.sin(2*np.pi*500*t)\n",
    "\n",
    "def beep():\n",
    "    a = Audio(audio_data, rate=framerate, autoplay=True)\n",
    "    ipd.display(a)"
   ]
  },
  {
   "cell_type": "code",
   "execution_count": null,
   "metadata": {},
   "outputs": [],
   "source": [
    "import time as t\n",
    "\n",
    "number = 100\n",
    "lambda1 = 0.005\n",
    "time_max = 100\n",
    "# Time loop\n",
    "for time in np.arange ( 0 , time_max + 1) :\n",
    "    decay_atom = 0\n",
    "    # Decay loop\n",
    "    for atom in np.arange ( 1 , number + 1 ) :\n",
    "        decay = np.random.random()\n",
    "        if ( decay < lambda1 ) :\n",
    "            decay_atom = decay_atom + 1 # A decay\n",
    "            beep()\n",
    "    number = number - decay_atom\n",
    "    t.sleep(0.3)\n",
    "    if number == 0: break;\n",
    "print('Done')"
   ]
  },
  {
   "cell_type": "markdown",
   "metadata": {},
   "source": [
    "---\n",
    "#### Execise 4.2.5 - Beta decay comparision\n",
    "\n",
    "Using a large number of particles, show that the beta decay process from this random walk simulation is exponential decay."
   ]
  },
  {
   "cell_type": "code",
   "execution_count": null,
   "metadata": {},
   "outputs": [],
   "source": []
  }
 ],
 "metadata": {
  "kernelspec": {
   "display_name": "Python 3 (ipykernel)",
   "language": "python",
   "name": "python3"
  },
  "language_info": {
   "codemirror_mode": {
    "name": "ipython",
    "version": 3
   },
   "file_extension": ".py",
   "mimetype": "text/x-python",
   "name": "python",
   "nbconvert_exporter": "python",
   "pygments_lexer": "ipython3",
   "version": "3.9.7"
  }
 },
 "nbformat": 4,
 "nbformat_minor": 1
}
