{
 "cells": [
  {
   "cell_type": "code",
   "execution_count": null,
   "id": "488aa3f1",
   "metadata": {},
   "outputs": [],
   "source": [
    "import numpy as np\n",
    "import matplotlib.pyplot as plt"
   ]
  },
  {
   "cell_type": "markdown",
   "id": "00f1673a",
   "metadata": {},
   "source": [
    "### 3.6 Signal Processing\n",
    "\n",
    "Fourier Transform gives us ability to view our data in a completely different perspective, which is the data in time-domain to its frequency domain. Knowing the frequency domain allow us to understand about the frequency component with in the data. This opens a number of opportunities to process the data in many ways.\n",
    "\n",
    "One of the application that we will be using in the topic is the noise reduction example. The data collected usaully contains unwanted noise, which we can filter out easily in the frequency domain. Once the noise frequency has been removed, we can perform an inverse Fourier Transform or Discrete Fourier Transform to obtain the cleaned signal."
   ]
  },
  {
   "cell_type": "markdown",
   "id": "38066a25",
   "metadata": {},
   "source": [
    "___\n",
    "#### Removing Noise from Data\n",
    "\n",
    "Example below is from https://towardsdatascience.com/clean-up-data-noise-with-fourier-transform-in-python-7480252fd9c9"
   ]
  },
  {
   "cell_type": "code",
   "execution_count": null,
   "id": "32d27e7d",
   "metadata": {},
   "outputs": [],
   "source": [
    "#Create a simple signal with two frequencies\n",
    "data_step = 0.001\n",
    "t = np.arange(start=0,stop=1,step=data_step)\n",
    "f_clean = np.sin(2*np.pi*50*t) + np.sin(2*np.pi*120*t)\n",
    "f_noise = f_clean + 2.5*np.random.randn(len(t))\n",
    "plt.plot(t, f_noise, label='Noisy')\n",
    "plt.plot(t, f_clean, label='Clean')\n",
    "plt.legend()"
   ]
  },
  {
   "cell_type": "code",
   "execution_count": null,
   "id": "9f5d9218",
   "metadata": {},
   "outputs": [],
   "source": []
  },
  {
   "cell_type": "code",
   "execution_count": null,
   "id": "ca858b93",
   "metadata": {},
   "outputs": [],
   "source": []
  },
  {
   "cell_type": "code",
   "execution_count": null,
   "id": "90246fa5",
   "metadata": {},
   "outputs": [],
   "source": []
  },
  {
   "cell_type": "code",
   "execution_count": null,
   "id": "abecb6d0",
   "metadata": {},
   "outputs": [],
   "source": []
  },
  {
   "cell_type": "markdown",
   "id": "06a1190e",
   "metadata": {},
   "source": [
    "___\n",
    "#### Removing Audio Noise\n"
   ]
  },
  {
   "cell_type": "code",
   "execution_count": null,
   "id": "0501a6da",
   "metadata": {},
   "outputs": [],
   "source": [
    "from scipy.io import wavfile\n",
    "freq, y = wavfile.read('images/samples_original_sample1.wav')\n",
    "dt = 1/freq\n",
    "t = np.linspace(0, (len(y)-1)*dt, len(y))\n",
    "plt.plot(t, y, label='Original')\n",
    "plt.title('Time Domain')\n",
    "plt.legend()"
   ]
  },
  {
   "cell_type": "code",
   "execution_count": null,
   "id": "5351e6d1",
   "metadata": {},
   "outputs": [],
   "source": []
  },
  {
   "cell_type": "code",
   "execution_count": null,
   "id": "ad9266b9",
   "metadata": {},
   "outputs": [],
   "source": []
  },
  {
   "cell_type": "code",
   "execution_count": null,
   "id": "1a45906a",
   "metadata": {},
   "outputs": [],
   "source": []
  },
  {
   "cell_type": "code",
   "execution_count": null,
   "id": "9168e086",
   "metadata": {},
   "outputs": [],
   "source": []
  },
  {
   "cell_type": "code",
   "execution_count": null,
   "id": "9ac77cf4",
   "metadata": {},
   "outputs": [],
   "source": []
  },
  {
   "cell_type": "code",
   "execution_count": null,
   "id": "fc010850",
   "metadata": {},
   "outputs": [],
   "source": [
    "wavfile.write('samples_noise_reduced.wav', freq, np.array(new_f_clean, dtype=np.int16))"
   ]
  },
  {
   "cell_type": "code",
   "execution_count": null,
   "id": "b14f1c52",
   "metadata": {},
   "outputs": [],
   "source": [
    "y"
   ]
  },
  {
   "cell_type": "code",
   "execution_count": null,
   "id": "162467d4",
   "metadata": {},
   "outputs": [],
   "source": [
    "np.array(new_f_clean, dtype=np.int16)"
   ]
  },
  {
   "cell_type": "code",
   "execution_count": null,
   "id": "ac9e92c6",
   "metadata": {},
   "outputs": [],
   "source": []
  }
 ],
 "metadata": {
  "kernelspec": {
   "display_name": "Python 3 (ipykernel)",
   "language": "python",
   "name": "python3"
  },
  "language_info": {
   "codemirror_mode": {
    "name": "ipython",
    "version": 3
   },
   "file_extension": ".py",
   "mimetype": "text/x-python",
   "name": "python",
   "nbconvert_exporter": "python",
   "pygments_lexer": "ipython3",
   "version": "3.9.7"
  }
 },
 "nbformat": 4,
 "nbformat_minor": 5
}
