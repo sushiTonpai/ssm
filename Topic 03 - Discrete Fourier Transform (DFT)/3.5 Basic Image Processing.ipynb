{
 "cells": [
  {
   "cell_type": "code",
   "execution_count": null,
   "metadata": {},
   "outputs": [],
   "source": [
    "import numpy as np\n",
    "import matplotlib.pyplot as plt\n",
    "import matplotlib.image as mpimg\n",
    "import pylab as py\n",
    "from scipy import misc, fftpack\n",
    "%matplotlib inline\n",
    "\n",
    "n = 1024\n",
    "I = np.arange(1, n)\n",
    "x = I - n / 2\n",
    "y = n / 2 - I\n",
    "\n",
    "R = 10\n",
    "\n",
    "X = x[:, np.newaxis]\n",
    "Y = y[np.newaxis, :]\n",
    "\n",
    "M = X**2 + Y**2 < R**2\n",
    "\n",
    "D1 = fftpack.fft2(M)/n\n",
    "D2 = fftpack.fftshift(D1)\n",
    "\n",
    "abs_image = np.abs(D2)\n",
    "py.imshow(abs_image)\n",
    "py.show()"
   ]
  },
  {
   "cell_type": "code",
   "execution_count": null,
   "metadata": {},
   "outputs": [],
   "source": [
    "import numpy as np\n",
    "import matplotlib.pyplot as plt\n",
    "import matplotlib.image as mpimg\n",
    "import pylab as py\n",
    "from scipy import misc, fftpack\n",
    "%matplotlib inline\n",
    "\n",
    "image = mpimg.imread('images/circular.png')\n",
    "\n",
    "grayim = np.where(image[:,:,0] > 0, 0, 1) \n",
    "\n",
    "D1 = fftpack.fft2(grayim)/n\n",
    "D2 = fftpack.fftshift(D1)\n",
    "\n",
    "abs_image = np.abs(D2)\n",
    "py.imshow(abs_image)\n",
    "py.show()"
   ]
  },
  {
   "cell_type": "code",
   "execution_count": null,
   "metadata": {},
   "outputs": [],
   "source": [
    "import numpy as np\n",
    "import matplotlib.pyplot as plt\n",
    "import matplotlib.image as mpimg\n",
    "import pylab as py\n",
    "from scipy import misc, fftpack\n",
    "from mpl_toolkits.mplot3d import Axes3D\n",
    "\n",
    "%matplotlib inline\n",
    "\n",
    "image = mpimg.imread('images/yui.jpg')\n",
    "#image = mpimg.imread('pattern2.jpg')\n",
    "\n",
    "grayim = image[:,:,0]\n",
    "\n",
    "norm = np.sqrt(grayim.shape[0] * grayim.shape[1])\n",
    "\n",
    "D1 = fftpack.fft2(grayim)/norm\n",
    "D2 = fftpack.fftshift(D1)\n",
    "#D3 = fftpack.fft2(D1)/norm\n",
    "\n",
    "abs_image = np.abs(D2)**0.05\n",
    "print(abs_image.max())\n",
    "py.imshow(abs_image)\n",
    "py.show()\n",
    "\n",
    "#D3 = fftpack.fft2(D1)\n",
    "#abs_image = np.abs(D3)\n",
    "\n",
    "#image_inv = np.abs(D1)\n",
    "#image_inv *= 255.0/image_inv.max()\n",
    "#image_inv = image_inv.astype(dtype='int64')\n",
    "#print image_inv\n",
    "#plt.imshow(image_inv)\n",
    "#print D1.real\n",
    "#print np.max(abs_image[110:,n/2])\n",
    "\n",
    "#print abs_image[110:130,n/2]\n",
    "#plt.plot(abs_image[:,n/2])\n",
    "\n"
   ]
  },
  {
   "cell_type": "code",
   "execution_count": null,
   "metadata": {},
   "outputs": [],
   "source": [
    "import numpy as np\n",
    "import matplotlib.pyplot as plt\n",
    "import matplotlib.image as mpimg\n",
    "import pylab as py\n",
    "from scipy import misc, fftpack\n",
    "%matplotlib inline\n",
    "\n",
    "n = 100\n",
    "I = np.arange(1, n)\n",
    "x = I - n / 2\n",
    "y = n / 2 - I\n",
    "\n",
    "R = 10\n",
    "\n",
    "X = x[:, np.newaxis]\n",
    "Y = y[np.newaxis, :]\n",
    "\n",
    "M = X**2 + Y**2 < R**2\n",
    "\n",
    "D1 = fftpack.fft2(M)/n\n",
    "D2 = fftpack.fftshift(D1)\n",
    "\n",
    "D3 = fftpack.fft2(D1)/n\n",
    "#print np.abs(D3)[:,50]\n",
    "plt.imshow(np.abs(D3))"
   ]
  },
  {
   "cell_type": "markdown",
   "metadata": {
    "collapsed": true
   },
   "source": [
    "---\n",
    "Experiment the following types of image processing\n",
    "\n",
    "- Low pass filter\n",
    "\n",
    "- High pass filter\n",
    "\n",
    "- Band filter\n",
    "\n",
    "- Guassian blur"
   ]
  },
  {
   "cell_type": "code",
   "execution_count": null,
   "metadata": {},
   "outputs": [],
   "source": []
  }
 ],
 "metadata": {
  "kernelspec": {
   "display_name": "Python 3 (ipykernel)",
   "language": "python",
   "name": "python3"
  },
  "language_info": {
   "codemirror_mode": {
    "name": "ipython",
    "version": 3
   },
   "file_extension": ".py",
   "mimetype": "text/x-python",
   "name": "python",
   "nbconvert_exporter": "python",
   "pygments_lexer": "ipython3",
   "version": "3.9.7"
  }
 },
 "nbformat": 4,
 "nbformat_minor": 1
}
