{
 "cells": [
  {
   "cell_type": "markdown",
   "metadata": {},
   "source": [
    "### Homework 2.2 - Heat Transfer\n",
    "\n",
    "Use the finite differential method to solve a heat transfer equation, given by\n",
    "\n",
    "$$ \\frac{{\\partial T}}{{\\partial t}} = k\\frac{{{\\partial ^2}T}}{{\\partial {x^2}}} $$\n",
    "\n",
    "where $T(t, x)$ is the temperature distribution function.\n",
    "\n",
    "Solve the equation for $x$ between 0 and 1. At $x=0$ the temperature varies as $T(t,0)=sin(10t)$ and at At $x=1$ the temperature varies as $T(t,0)=e^{ - 100 (t - 0.15)^2}$.\n",
    "\n",
    "Make the animated clip of the temperature distribution function evolution. Pick appropriate time range."
   ]
  },
  {
   "cell_type": "code",
<<<<<<< HEAD
   "execution_count": 1,
=======
   "execution_count": null,
   "id": "372ae843",
>>>>>>> 5464de8ba616ee9b89646b4fc1146078b7a404bd
   "metadata": {},
   "outputs": [],
   "source": [
    "import numpy as np\n",
    "import matplotlib.pyplot as plt\n",
    "import matplotlib.animation as animation\n",
    "#%matplotlib inline"
   ]
  },
  {
   "cell_type": "code",
   "execution_count": 30,
   "metadata": {},
   "outputs": [
    {
     "name": "stdout",
     "output_type": "stream",
     "text": [
      "0.24999999999999994\n"
     ]
    }
   ],
   "source": [
    "maxx = 1 \n",
    "maxt = 5\n",
    "Nx = 10\n",
    "Nt = 1000\n",
    "dx = (maxx-0) / Nx\n",
    "dt = maxt / Nt\n",
    "k = 0.5\n",
    "ts = np.linspace(0,maxt,Nt)\n",
    "xs = np.linspace(0,maxx,Nx)\n",
    "\n",
    "\n",
    "e = k*dt/dx**2\n",
    "# e = 0.1\n",
    "\n",
    "u = np.zeros([Nt,Nx])\n",
    "#init u left \n",
    "for row in range(len(u)):\n",
    "    u[row][0] = np.sin(10*row*dt)\n",
    "    \n",
    "#init u right\n",
    "for row in range(len(u)):\n",
    "    u[row][-1] = np.exp(-100*((row*dt)-0.15)**2)\n",
    "\n",
    "for row in range(1,len(u)-1):\n",
    "    for col in range(1,len(u[0])-1):\n",
    "        u[row+1][col] = e*(u[row][col+1]-2*u[row][col]+u[row][col-1])+ u[row][col]\n",
    "        \n",
    "print(e)\n",
    "\n"
   ]
  },
  {
   "cell_type": "code",
   "execution_count": 32,
   "metadata": {},
   "outputs": [
    {
     "name": "stderr",
     "output_type": "stream",
     "text": [
      "MovieWriter ffmpeg unavailable; using Pillow instead.\n"
     ]
    },
    {
     "data": {
      "text/plain": [
       "<function matplotlib.pyplot.show(close=None, block=None)>"
      ]
     },
     "execution_count": 32,
     "metadata": {},
     "output_type": "execute_result"
    },
    {
     "data": {
      "image/png": "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\n",
      "text/plain": [
       "<Figure size 432x288 with 1 Axes>"
      ]
     },
     "metadata": {
      "needs_background": "light"
     },
     "output_type": "display_data"
    }
   ],
   "source": [
    "fig, ax = plt.subplots()\n",
    "ax = plt.axes(xlim=(0, 1), ylim=(-1, 1))\n",
    "line, = ax.plot(xs,u[0,:])\n",
    "\n",
    "\n",
    "def animate(i):\n",
    "    line.set_data(xs,u[i,:])\n",
    "    return line\n",
    "\n",
    "anim = animation.FuncAnimation(fig, animate, frames=len(u[:,0]), repeat=False)\n",
    "anim.save('heat-trans.gif', fps = 20)\n",
    "plt.show"
   ]
  }
 ],
 "metadata": {
  "kernelspec": {
   "display_name": "Python 3",
   "language": "python",
   "name": "python3"
  },
  "language_info": {
   "codemirror_mode": {
    "name": "ipython",
    "version": 3
   },
   "file_extension": ".py",
   "mimetype": "text/x-python",
   "name": "python",
   "nbconvert_exporter": "python",
   "pygments_lexer": "ipython3",
   "version": "3.9.7"
  }
 },
 "nbformat": 4,
 "nbformat_minor": 5
}
