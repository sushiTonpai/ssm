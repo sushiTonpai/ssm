{
 "cells": [
  {
   "cell_type": "markdown",
   "metadata": {},
   "source": [
    "### Homework 3.3 - Please Help The Cat\n",
    "\n",
    "A poor cat is trapped on canvas by an evil witch. Please help releasing the cat by breaking the curse using Discrete Fourier Transform learned in our magic class.\n",
    "\n",
    "You may find the image at `images/poor-cat-trapped-on-canvas.jpg`. Note that the image has 3 color channels (RGB).\n",
    "\n",
    "Please remember that the examples shown in class uses the book of spells from the ancient library. Try searching the newer spells on the internet.\n",
    "\n",
    "**You must show all the steps clearly. Write your explanation in the markdown boxes.**\n",
    "\n",
    "<img src=\"images/poor-cat-trapped-on-canvas.jpg\" alt=\"A poor cat trapped on canvas\" width=\"400\">"
   ]
  },
  {
   "cell_type": "code",
   "execution_count": null,
   "metadata": {},
   "outputs": [],
   "source": []
  }
 ],
 "metadata": {
  "kernelspec": {
   "display_name": "Python 3 (ipykernel)",
   "language": "python",
   "name": "python3"
  },
  "language_info": {
   "codemirror_mode": {
    "name": "ipython",
    "version": 3
   },
   "file_extension": ".py",
   "mimetype": "text/x-python",
   "name": "python",
   "nbconvert_exporter": "python",
   "pygments_lexer": "ipython3",
   "version": "3.9.7"
  }
 },
 "nbformat": 4,
 "nbformat_minor": 1
}
