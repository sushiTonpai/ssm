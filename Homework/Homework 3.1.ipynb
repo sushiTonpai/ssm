{
 "cells": [
  {
   "cell_type": "code",
   "execution_count": 1,
   "id": "c5f73d2c",
   "metadata": {},
   "outputs": [],
   "source": [
    "import numpy as np\n",
    "import matplotlib.pyplot as plt"
   ]
  },
  {
   "cell_type": "markdown",
   "id": "fafbb143",
   "metadata": {},
   "source": [
    "### Homework 3.1.1 - Fourier Series\n",
    "\n",
    "A periodic function with a period of $T=2$ can be decomposed into a Fourier series with the coefficients below:\n",
    "\n",
    "$$\n",
    "{\\displaystyle {\\begin{aligned}a_{0}= {\\frac {2}{3}}\\\\a_{n}= {\\frac {4}{\\pi ^{2}n^{2}}}\\\\b_{n}= 0\\\\\\end{aligned}}}\n",
    "$$\n",
    "\n",
    "$$\n",
    "{\\displaystyle f(t)={\\frac {a_{0}}{2}}+\\sum _{n=1}^{N}\\left(a_{n}\\cos \\left({\\tfrac {2\\pi }{T}}nt\\right)+b_{n}\\sin \\left({\\tfrac {2\\pi }{T}}nt\\right)\\right)}\n",
    "$$\n",
    "\n",
    "Use sufficiently large number of $N$ to reconstruct the periodict function $f(x)$ by ploting the graph for $-8 < t < 8$.\n"
   ]
  },
  {
   "cell_type": "code",
   "execution_count": null,
   "id": "66d01c32",
   "metadata": {},
   "outputs": [],
   "source": []
  },
  {
   "cell_type": "markdown",
   "id": "765c3857",
   "metadata": {},
   "source": [
    "___\n",
    "### Homework 3.1.2\n",
    "\n",
    "A function $f(x)$ is given by the code and is shown below. Given that the function is periodict function between $-4 < x < 4$, find the first 100 coefficients of the Fourier series and use that coefficients to reconstruct the signal for $-16 < x < 16$."
   ]
  },
  {
   "cell_type": "code",
   "execution_count": 26,
   "id": "92437c23",
   "metadata": {},
   "outputs": [
    {
     "data": {
      "image/png": "[encoded data removed]",
      "text/plain": [
       "<Figure size 432x288 with 1 Axes>"
      ]
     },
     "metadata": {
      "needs_background": "light"
     },
     "output_type": "display_data"
    }
   ],
   "source": [
    "def f(x):\n",
    "    if (x > 4) or (x < -4):\n",
    "        raise Exception(\"Out of bound\")\n",
    "    elif (-4 <= x < -3) or (-2 <= x < -1):\n",
    "        return x + 8\n",
    "    elif (1 <= x < 2) or (3 <= x < 4):\n",
    "        return x - 8\n",
    "    else:\n",
    "        return x\n",
    "\n",
    "x = np.linspace(-4,4,100000)\n",
    "y = [f(e) for e in x]\n",
    "plt.plot(x, y)\n",
    "plt.grid()\n",
    "plt.show()"
   ]
  },
  {
   "cell_type": "code",
   "execution_count": null,
   "id": "8bf3880b",
   "metadata": {},
   "outputs": [],
   "source": []
  }
 ],
 "metadata": {
  "kernelspec": {
   "display_name": "Python 3 (ipykernel)",
   "language": "python",
   "name": "python3"
  },
  "language_info": {
   "codemirror_mode": {
    "name": "ipython",
    "version": 3
   },
   "file_extension": ".py",
   "mimetype": "text/x-python",
   "name": "python",
   "nbconvert_exporter": "python",
   "pygments_lexer": "ipython3",
   "version": "3.9.7"
  }
 },
 "nbformat": 4,
 "nbformat_minor": 5
}
