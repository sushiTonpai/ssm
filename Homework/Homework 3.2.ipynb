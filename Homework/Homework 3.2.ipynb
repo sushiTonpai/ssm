{
 "cells": [
  {
   "cell_type": "code",
   "execution_count": 1,
   "id": "430b7b29",
   "metadata": {},
   "outputs": [],
   "source": [
    "import numpy as np\n",
    "import math\n",
    "import matplotlib.pyplot as plt\n",
    "from scipy.stats import norm\n",
    "from scipy import integrate"
   ]
  },
  {
   "cell_type": "markdown",
   "id": "59ddef9e",
   "metadata": {},
   "source": [
    "### Homework 3.2 - Convolution\n",
    "\n",
    "In this homework, we will study the effect of convolution between two functions. However, we are taking the numerical approach, our answer may behave differently from the theory around the boundary if we do not have sufficient number of steps. To reduce the problem, we will use steps = 10,000."
   ]
  },
  {
   "cell_type": "code",
   "execution_count": 2,
   "id": "1b607588",
   "metadata": {},
   "outputs": [],
   "source": [
    "steps = 100000"
   ]
  },
  {
   "cell_type": "markdown",
   "id": "b5eee741",
   "metadata": {},
   "source": [
    "I have defined the following functions: \n",
    "\n",
    "$dd(x)$, which is an approximation of the diract delta function using Gaussian distributiion function. This is not as nearly good as the real diract delta function but should be sufficient for the problem we are doing when $\\sigma$ is small.\n",
    "\n",
    "$f(x)$ is the diract delta function repeats 5 times.\n",
    "\n",
    "$tooth(x)$ is a half triangle function."
   ]
  },
  {
   "cell_type": "code",
   "execution_count": 3,
   "id": "088d3516",
   "metadata": {},
   "outputs": [],
   "source": [
    "def dd(x, loc=0, sigma=0.01):\n",
    "    return math.exp(-0.5 / sigma * (x - loc)**2.) / math.sqrt(2*math.pi) / sigma\n",
    "\n",
    "def f(x):\n",
    "    return dd(x, 0) + dd(x, -5) + dd(x, 5) + dd(x, -10) + dd(x, 10)\n",
    "\n",
    "def tooth(x):\n",
    "    return (x + 2.2) if abs(x) < 2.2 else 0"
   ]
  },
  {
   "cell_type": "markdown",
   "id": "a01da28e",
   "metadata": {},
   "source": [
    "Let's plot $f(x)$ and $tooth(x)$."
   ]
  },
  {
   "cell_type": "code",
   "execution_count": 4,
   "id": "c528595f",
   "metadata": {
    "scrolled": true
   },
   "outputs": [
    {
     "data": {
      "image/png": "[encoded data removed]",
      "text/plain": [
       "<Figure size 432x288 with 1 Axes>"
      ]
     },
     "metadata": {
      "needs_background": "light"
     },
     "output_type": "display_data"
    }
   ],
   "source": [
    "x = np.linspace(-15, 15, steps)\n",
    "y_f = np.array([f(e) for e in x])\n",
    "y_saw = [tooth(e) for e in x]\n",
    "\n",
    "plt.plot(x, y_f, label='f(x)')\n",
    "plt.plot(x, y_saw, label='tooth(x)')\n",
    "plt.legend()\n",
    "plt.grid()\n",
    "plt.show()"
   ]
  },
  {
   "cell_type": "markdown",
   "id": "d89d2222",
   "metadata": {},
   "source": [
    "**Q1: Find the convolution between $f(x)$ and $tooth(x)$ functions by plotting the answer out**, i.e.:\n",
    "\n",
    "$$\n",
    "f(x) * g(x) =\\int^\\infty_{-\\infty}{f(x) g(t-x)}{dx}\n",
    "$$\n",
    "\n",
    "Keep in mind that you are not able to perform this integral from and to infinity so as long as the limit are sufficiently large, it should be ok. Also make sure to use sufficiently large number of steps because the $f(x)$ has sharp peaks and we cannot actually perform continuous integration on computer."
   ]
  },
  {
   "cell_type": "code",
   "execution_count": null,
   "id": "2754a921",
   "metadata": {},
   "outputs": [],
   "source": []
  },
  {
   "cell_type": "markdown",
   "id": "d5dde826",
   "metadata": {},
   "source": [
    "**Q2: Can you explain the effect of the convolution from what you learn during this homework?**"
   ]
  },
  {
   "cell_type": "code",
   "execution_count": null,
   "id": "6fb98623",
   "metadata": {},
   "outputs": [],
   "source": []
  }
 ],
 "metadata": {
  "kernelspec": {
   "display_name": "Python 3 (ipykernel)",
   "language": "python",
   "name": "python3"
  },
  "language_info": {
   "codemirror_mode": {
    "name": "ipython",
    "version": 3
   },
   "file_extension": ".py",
   "mimetype": "text/x-python",
   "name": "python",
   "nbconvert_exporter": "python",
   "pygments_lexer": "ipython3",
   "version": "3.9.7"
  }
 },
 "nbformat": 4,
 "nbformat_minor": 5
}
