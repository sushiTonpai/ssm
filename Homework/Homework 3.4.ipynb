{
 "cells": [
  {
   "cell_type": "markdown",
   "metadata": {},
   "source": [
    "### Homework 3.4 - Testing out filters\n",
    "\n",
    "We are testing out the following filters:\n",
    "\n",
    "- Low pass filter\n",
    "- High pass filter\n",
    "- Band filter\n",
    "- Guassian blur filter\n",
    "\n",
    "Pick an image of your choice and apply those filters on it.\n",
    "\n",
    "**You must show all the steps clearly. Write your explanation in the markdown boxes.**"
   ]
  },
  {
   "cell_type": "code",
   "execution_count": null,
   "metadata": {},
   "outputs": [],
   "source": []
  }
 ],
 "metadata": {
  "kernelspec": {
   "display_name": "Python 3 (ipykernel)",
   "language": "python",
   "name": "python3"
  },
  "language_info": {
   "codemirror_mode": {
    "name": "ipython",
    "version": 3
   },
   "file_extension": ".py",
   "mimetype": "text/x-python",
   "name": "python",
   "nbconvert_exporter": "python",
   "pygments_lexer": "ipython3",
   "version": "3.9.7"
  }
 },
 "nbformat": 4,
 "nbformat_minor": 1
}
